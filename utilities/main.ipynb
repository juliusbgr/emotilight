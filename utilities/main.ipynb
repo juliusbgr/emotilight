{
 "cells": [
  {
   "cell_type": "code",
   "execution_count": 11,
   "id": "299a1b98",
   "metadata": {},
   "outputs": [],
   "source": [
    "import asyncio\n",
    "from govee_api_laggat import Govee\n",
    "from dotenv import load_dotenv\n",
    "import os\n",
    "\n",
    "load_dotenv()\n",
    "API_KEY = os.getenv(\"GOVEE_API_KEY\")\n",
    "\n",
    "async def main():\n",
    "    govee = Govee(api_key=API_KEY)\n",
    "    devices = await govee.get_devices()\n",
    "\n",
    "    if not devices:\n",
    "        print(\"No device found.\")\n",
    "        return\n",
    "\n",
    "    device = devices[0]\n",
    "    await govee.turn_on(device)\n",
    "    await govee.set_color(device, (0, 0, 255))  #blue\n",
    "\n",
    "#only use in interactive mode\n",
    "await main()"
   ]
  }
 ],
 "metadata": {
  "kernelspec": {
   "display_name": ".venv",
   "language": "python",
   "name": "python3"
  },
  "language_info": {
   "codemirror_mode": {
    "name": "ipython",
    "version": 3
   },
   "file_extension": ".py",
   "mimetype": "text/x-python",
   "name": "python",
   "nbconvert_exporter": "python",
   "pygments_lexer": "ipython3",
   "version": "3.11.9"
  }
 },
 "nbformat": 4,
 "nbformat_minor": 5
}
